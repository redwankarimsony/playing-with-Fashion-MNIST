{
 "cells": [
  {
   "cell_type": "markdown",
   "metadata": {},
   "source": [
    "# Fashion MNIST Dataset\n",
    "Original data source: https://github.com/zalandoresearch/fashion-mnist"
   ]
  },
  {
   "cell_type": "markdown",
   "metadata": {},
   "source": [
    "## Context\n",
    "Fashion-MNIST is a dataset of Zalando's article images—consisting of a training set of 60,000 examples and a test set of 10,000 examples. Each example is a 28x28 grayscale image, associated with a label from 10 classes. Zalando intends Fashion-MNIST to serve as a direct drop-in replacement for the original MNIST dataset for benchmarking machine learning algorithms. It shares the same image size and structure of training and testing splits.\n",
    "\n",
    "The original MNIST dataset contains a lot of handwritten digits. Members of the AI/ML/Data Science community love this dataset and use it as a benchmark to validate their algorithms. In fact, MNIST is often the first dataset researchers try. \"If it doesn't work on MNIST, it won't work at all\", they said. \"Well, if it does work on MNIST, it may still fail on others.\"\n",
    "\n",
    "Zalando seeks to replace the original MNIST dataset\n",
    "\n",
    "\n",
    "## Content\n",
    "Each image is 28 pixels in height and 28 pixels in width, for a total of 784 pixels in total. Each pixel has a single pixel-value associated with it, indicating the lightness or darkness of that pixel, with higher numbers meaning darker. This pixel-value is an integer between 0 and 255. The training and test data sets have 785 columns. The first column consists of the class labels (see above), and represents the article of clothing. The rest of the columns contain the pixel-values of the associated image.\n",
    "\n",
    "![Fashion MNIST dataset Image from githhub](https://github.com/zalandoresearch/fashion-mnist/raw/master/doc/img/fashion-mnist-sprite.png)\n",
    "\n",
    "* To locate a pixel on the image, suppose that we have decomposed x as x = i * 28 + j, where i and j are integers between 0 and 27. The pixel is located on row i and column j of a 28 x 28 matrix.\n",
    "* For example, pixel31 indicates the pixel that is in the fourth column from the left, and the second row from the top, as in the ascii-diagram above.\n",
    "\n",
    "\n",
    "### Labels\n",
    "\n",
    "Each training and test example is assigned to one of the following labels:\n",
    "\n",
    "0. T-shirt/top\n",
    "1. Trouser\n",
    "2. Pullover\n",
    "3. Dress\n",
    "4. Coat\n",
    "5. Sandal\n",
    "6. Shirt\n",
    "7. Sneaker\n",
    "8. Bag\n",
    "9. Ankle boot\n",
    "\n",
    "\n",
    "TL;DR\n",
    "\n",
    "* Each row is a separate image\n",
    "* Column 1 is the class label.\n",
    "* Remaining columns are pixel numbers (784 total).\n",
    "* Each value is the darkness of the pixel (1 to 255)"
   ]
  },
  {
   "cell_type": "markdown",
   "metadata": {},
   "source": [
    "In this notebook, we’ll learn how to:\n",
    "\n",
    "Read in data and with appropriate transforms (nearly identical to the prior tutorial).\n",
    "1. Set up TensorBoard.\n",
    "2. Write to TensorBoard.\n",
    "3. Inspect a model architecture using TensorBoard.\n",
    "4.Use TensorBoard to create interactive versions of the visualizations we created in last tutorial, with less code\n",
    "5. Specifically, on point #5, we’ll see:\n",
    "\n",
    "A couple of ways to inspect our training data\n",
    "* How to track our model’s performance as it trains\n",
    "* How to assess our model’s performance once it is trained.\n",
    "## Data Loading and Visualization"
   ]
  },
  {
   "cell_type": "code",
   "execution_count": 26,
   "metadata": {},
   "outputs": [],
   "source": [
    "import torch\n",
    "import torchvision\n",
    "import torchvision.transforms as transforms\n",
    "\n",
    "import numpy as np\n",
    "import matplotlib.pyplot as plt\n",
    "\n",
    "import torch.nn as nn\n",
    "import torch.optim as optim\n",
    "import torch.nn.functional as F\n"
   ]
  },
  {
   "cell_type": "code",
   "execution_count": 41,
   "metadata": {},
   "outputs": [
    {
     "name": "stdout",
     "output_type": "stream",
     "text": [
      "cuda:0\n"
     ]
    }
   ],
   "source": [
    "device = torch.device(\"cuda:0\" if torch.cuda.is_available() else \"cpu\")\n",
    "# Assuming that we are on a CUDA machine, this should print a CUDA device:\n",
    "print(device)"
   ]
  },
  {
   "cell_type": "code",
   "execution_count": 2,
   "metadata": {},
   "outputs": [],
   "source": [
    "transform = transforms.Compose([transforms.ToTensor(),\n",
    "                               transforms.Normalize((0.5,), (0.5,)),])"
   ]
  },
  {
   "cell_type": "code",
   "execution_count": 20,
   "metadata": {},
   "outputs": [],
   "source": [
    "train_ds = torchvision.datasets.FashionMNIST(root = './data', \n",
    "                                             train=True, \n",
    "                                             download=True,  \n",
    "                                             transform=transform)\n",
    "test_ds = torchvision.datasets.FashionMNIST(root = './data', \n",
    "                                             train=False, \n",
    "                                             download=True,  \n",
    "                                             transform=transform)\n",
    "\n",
    "# Convert dataset into a DataLoader\n",
    "train_dl = torch.utils.data.DataLoader(train_ds, batch_size=16, shuffle= True, num_workers=2)\n",
    "test_dl = torch.utils.data.DataLoader(test_ds, batch_size=16, shuffle= False, num_workers=2)\n",
    "classes = ('T-shirt/top', 'Trouser', 'Pullover', \n",
    "           'Dress', 'Coat','Sandal', 'Shirt', \n",
    "           'Sneaker', 'Bag', 'Ankle Boot')"
   ]
  },
  {
   "cell_type": "code",
   "execution_count": 58,
   "metadata": {},
   "outputs": [
    {
     "data": {
      "text/plain": [
       "Dataset FashionMNIST\n",
       "    Number of datapoints: 60000\n",
       "    Root location: ./data\n",
       "    Split: Train\n",
       "    StandardTransform\n",
       "Transform: Compose(\n",
       "               ToTensor()\n",
       "               Normalize(mean=(0.5,), std=(0.5,))\n",
       "           )"
      ]
     },
     "execution_count": 58,
     "metadata": {},
     "output_type": "execute_result"
    }
   ],
   "source": [
    "train_ds"
   ]
  },
  {
   "cell_type": "code",
   "execution_count": 79,
   "metadata": {},
   "outputs": [
    {
     "data": {
      "image/png": "[encoded data removed]",
      "text/plain": [
       "<Figure size 936x288 with 16 Axes>"
      ]
     },
     "metadata": {
      "needs_background": "light"
     },
     "output_type": "display_data"
    }
   ],
   "source": [
    "def grid_show(images, labels, classes, preds = None):\n",
    "    \"\"\"\n",
    "    This function makes grid of images and labels given. \n",
    "    Both original labels and predictions can be given. \n",
    "    \"\"\"\n",
    "    no_of_images = images.shape[0]\n",
    "    cols = 8\n",
    "    rows = no_of_images // cols\n",
    "    # Changing the channels of the image in order to fit it to the matplotlib format view\n",
    "    if images.is_cuda:\n",
    "        images = images.cpu()\n",
    "    images = np.array(images)\n",
    "    # De Normalizing the images\n",
    "    images = (images/2 + 0.5)*255\n",
    "    \n",
    "\n",
    "    plt.figure(figsize=(cols+5, rows+2))\n",
    "    index = 0\n",
    "    for i in range(rows):\n",
    "        for j in range(cols):\n",
    "            plt.subplot(rows, cols, index+1)\n",
    "            plt.imshow(images[index].astype('uint8').reshape(28,28), cmap=\"Greys\")\n",
    "            if preds is None:\n",
    "                plt.title(str(classes[labels[index].item()]))\n",
    "            else:\n",
    "                plt.title(str(classes[labels[index].item()]) + '/' + str(classes[preds[index].item()]))\n",
    "            plt.axis(False)\n",
    "            index +=1\n",
    "    plt.show()\n",
    "    \n",
    "    \n",
    "# Calling the above function\n",
    "dataiter = iter(train_dl)\n",
    "images, labels = dataiter.next()\n",
    "grid_show(images, labels, classes)"
   ]
  },
  {
   "cell_type": "code",
   "execution_count": 42,
   "metadata": {},
   "outputs": [
    {
     "data": {
      "text/plain": [
       "Net(\n",
       "  (conv1): Conv2d(1, 10, kernel_size=(5, 5), stride=(1, 1))\n",
       "  (pool): MaxPool2d(kernel_size=2, stride=2, padding=0, dilation=1, ceil_mode=False)\n",
       "  (conv2): Conv2d(10, 16, kernel_size=(5, 5), stride=(1, 1))\n",
       "  (fc1): Linear(in_features=256, out_features=128, bias=True)\n",
       "  (fc2): Linear(in_features=128, out_features=84, bias=True)\n",
       "  (fc3): Linear(in_features=84, out_features=10, bias=True)\n",
       ")"
      ]
     },
     "execution_count": 42,
     "metadata": {},
     "output_type": "execute_result"
    }
   ],
   "source": [
    "class Net(nn.Module):\n",
    "    def __init__(self):\n",
    "        super(Net, self).__init__()\n",
    "        self.conv1 = nn.Conv2d(in_channels=1, out_channels=10, kernel_size=5)\n",
    "        self.pool = nn.MaxPool2d(2,2)\n",
    "        self.conv2 = nn.Conv2d(in_channels=10, out_channels=16, kernel_size=5)\n",
    "        self.fc1 = nn.Linear(in_features=16*4*4, out_features=128)\n",
    "        self.fc2 = nn.Linear(in_features=128, out_features= 84)\n",
    "        self.fc3 = nn.Linear(in_features=84, out_features= 10)\n",
    "        \n",
    "    def forward(self, x):\n",
    "        x = self.pool(F.relu(self.conv1(x)))\n",
    "        x = self.pool(F.relu(self.conv2(x)))\n",
    "        x = x.view(-1, 16*4*4)\n",
    "        x = self.fc1(x)\n",
    "        x = self.fc2(x)\n",
    "        x = self.fc3(x)\n",
    "        return x\n",
    "model = Net()\n",
    "model.to(device)"
   ]
  },
  {
   "cell_type": "code",
   "execution_count": 43,
   "metadata": {},
   "outputs": [],
   "source": [
    "loss_func = nn.CrossEntropyLoss()\n",
    "optimizer = optim.SGD(model.parameters(), lr=1e-3, momentum=0.9)\n",
    "epochs = 5"
   ]
  },
  {
   "cell_type": "code",
   "execution_count": 61,
   "metadata": {},
   "outputs": [],
   "source": [
    "def fit (epochs, model, train_dl, loss_func, optimizer):\n",
    "    for epoch in range(epochs):         #One epoch runs over the whole image set\n",
    "        total_loss = 0.0\n",
    "        running_loss = 0.0\n",
    "        valid_loss = 0.0\n",
    "        valid_size = 0\n",
    "        for i, data in enumerate(train_dl, start=0):\n",
    "            xb, yb = data[0].to(device), data[1].to(device)\n",
    "            optimizer.zero_grad()\n",
    "\n",
    "            # Forward  + backward + optimize\n",
    "            preds = model(xb)\n",
    "            loss = loss_func(preds, yb)\n",
    "            loss.backward()\n",
    "            optimizer.step()\n",
    "\n",
    "            #print statistics for training loss\n",
    "            running_loss += loss.item()\n",
    "            total_loss += loss.item()\n",
    "            if i%500==499:\n",
    "                print('[Epoch: %d, Batch: %5d] loss: %.3f' %(epoch, i+1, running_loss/500))\n",
    "                running_loss = 0.0\n",
    "            \n",
    "        with torch.no_grad():\n",
    "            for i, data in enumerate(train_dl, start=0):\n",
    "                xb, yb = data[0].to(device), data[1].to(device)\n",
    "                valid_loss += loss_func(model(xb), yb)\n",
    "                valid_size += len(yb)\n",
    "#             print('Valid Loss: ', (valid_loss/valid_size).item())\n",
    "        print('[Epoch: %d, ] Train loss: %.3f Valid loss: %.3f' %(epoch, total_loss/60000,  (valid_loss/valid_size).item()))\n",
    "    print('Finished Training :) ')"
   ]
  },
  {
   "cell_type": "code",
   "execution_count": 69,
   "metadata": {},
   "outputs": [
    {
     "name": "stdout",
     "output_type": "stream",
     "text": [
      "[Epoch: 0, Batch:   500] loss: 0.223\n",
      "[Epoch: 0, Batch:  1000] loss: 0.239\n",
      "[Epoch: 0, Batch:  1500] loss: 0.236\n",
      "[Epoch: 0, Batch:  2000] loss: 0.238\n",
      "[Epoch: 0, Batch:  2500] loss: 0.221\n",
      "[Epoch: 0, Batch:  3000] loss: 0.216\n",
      "[Epoch: 0, Batch:  3500] loss: 0.236\n",
      "[Epoch: 0, ] Train loss: 0.014 Valid loss: 0.014\n",
      "Finished Training :) \n"
     ]
    }
   ],
   "source": [
    "fit (1, model, train_dl, loss_func, optimizer)"
   ]
  },
  {
   "cell_type": "code",
   "execution_count": 84,
   "metadata": {},
   "outputs": [],
   "source": [
    "# Saving the trained model\n",
    "savepath = './fashion-stage1-gpu.pth'\n",
    "torch.save(model.state_dict(), savepath)"
   ]
  },
  {
   "cell_type": "code",
   "execution_count": 85,
   "metadata": {},
   "outputs": [
    {
     "data": {
      "text/plain": [
       "<All keys matched successfully>"
      ]
     },
     "execution_count": 85,
     "metadata": {},
     "output_type": "execute_result"
    }
   ],
   "source": [
    "\n",
    "model.load_state_dict(torch.load(savepath))"
   ]
  },
  {
   "cell_type": "code",
   "execution_count": 86,
   "metadata": {},
   "outputs": [],
   "source": [
    "def get_accuracy(model, test_dl):\n",
    "    correct = 0\n",
    "    total = 0\n",
    "    with torch.no_grad():\n",
    "        for data in test_dl:\n",
    "            images, labels = data[0].to(device), data[1].to(device)\n",
    "            outputs = model(images)\n",
    "            _, predicted = torch.max(outputs.data, 1)\n",
    "            total += labels.size(0)\n",
    "            correct += (predicted == labels).sum().item()\n",
    "\n",
    "    return  100 * correct / total"
   ]
  },
  {
   "cell_type": "code",
   "execution_count": 87,
   "metadata": {},
   "outputs": [
    {
     "data": {
      "text/plain": [
       "89.49"
      ]
     },
     "execution_count": 87,
     "metadata": {},
     "output_type": "execute_result"
    }
   ],
   "source": [
    "get_accuracy(model, test_dl)"
   ]
  },
  {
   "cell_type": "code",
   "execution_count": 73,
   "metadata": {},
   "outputs": [],
   "source": [
    "def get_predictions(model, images):\n",
    "    \"\"\"\n",
    "    Inference function for a single batch\n",
    "    \"\"\"\n",
    "    with torch.no_grad():\n",
    "        _, predicted = torch.max(model(images), 1)\n",
    "    return predicted\n",
    "\n",
    "\n",
    "def show_predictions(model, test_dl, classes, batches = 1):\n",
    "    \"\"\"Function to show the predictions in a grid format for mutiple batches.\"\"\"\n",
    "    print('Original/Predicted')\n",
    "    dataiter = iter(test_dl)\n",
    "    \n",
    "    for i in range(batches):\n",
    "        data = dataiter.next()\n",
    "        print('Batch No: ', i+1)\n",
    "        images, labels = data[0].to(device), data[1].to(device) \n",
    "        preds = get_predictions(model, images)\n",
    "        grid_show(images, labels, classes, preds=preds)"
   ]
  },
  {
   "cell_type": "code",
   "execution_count": 80,
   "metadata": {},
   "outputs": [
    {
     "name": "stdout",
     "output_type": "stream",
     "text": [
      "Original/Predicted\n",
      "Batch No:  1\n"
     ]
    },
    {
     "data": {
      "image/png": "[encoded data removed]",
      "text/plain": [
       "<Figure size 936x288 with 16 Axes>"
      ]
     },
     "metadata": {
      "needs_background": "light"
     },
     "output_type": "display_data"
    }
   ],
   "source": [
    "\n",
    "show_predictions(model, test_dl, classes, batches=1)"
   ]
  },
  {
   "cell_type": "code",
   "execution_count": null,
   "metadata": {},
   "outputs": [],
   "source": []
  },
  {
   "cell_type": "code",
   "execution_count": null,
   "metadata": {},
   "outputs": [],
   "source": []
  },
  {
   "cell_type": "code",
   "execution_count": null,
   "metadata": {},
   "outputs": [],
   "source": []
  },
  {
   "cell_type": "code",
   "execution_count": null,
   "metadata": {},
   "outputs": [],
   "source": []
  }
 ],
 "metadata": {
  "kernelspec": {
   "display_name": "torch_env",
   "language": "python",
   "name": "torch_env"
  },
  "language_info": {
   "codemirror_mode": {
    "name": "ipython",
    "version": 3
   },
   "file_extension": ".py",
   "mimetype": "text/x-python",
   "name": "python",
   "nbconvert_exporter": "python",
   "pygments_lexer": "ipython3",
   "version": "3.7.3"
  }
 },
 "nbformat": 4,
 "nbformat_minor": 4
}
